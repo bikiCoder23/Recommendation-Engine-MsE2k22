{
 "cells": [
  {
   "cell_type": "markdown",
   "id": "0656ccbb",
   "metadata": {},
   "source": [
    "# Content based Movie Recommendation Engine"
   ]
  },
  {
   "cell_type": "markdown",
   "id": "4f814bd8",
   "metadata": {},
   "source": [
    "### Import libraries"
   ]
  },
  {
   "cell_type": "code",
   "execution_count": 1,
   "id": "f2032d11",
   "metadata": {},
   "outputs": [],
   "source": [
    "import pandas as pd\n",
    "import numpy as np\n",
    "import ast\n",
    "import nltk\n",
    "import pickle\n",
    "from nltk.stem.porter import PorterStemmer\n",
    "from sklearn.feature_extraction.text import CountVectorizer\n",
    "from scipy import sparse\n",
    "from sklearn.metrics.pairwise import cosine_similarity"
   ]
  },
  {
   "cell_type": "markdown",
   "id": "fbef15a1",
   "metadata": {},
   "source": [
    "### Import Datasets"
   ]
  },
  {
   "cell_type": "code",
   "execution_count": 2,
   "id": "f26504f3",
   "metadata": {},
   "outputs": [],
   "source": [
    "movies = pd.read_csv('tmdb_5000_movies.csv')\n",
    "credits = pd.read_csv('tmdb_5000_credits.csv')"
   ]
  },
  {
   "cell_type": "markdown",
   "id": "5219b27e",
   "metadata": {},
   "source": [
    "### Merging the above two data sets on basis of 'title' column"
   ]
  },
  {
   "cell_type": "code",
   "execution_count": 3,
   "id": "dd84747f",
   "metadata": {},
   "outputs": [],
   "source": [
    "movies = movies.merge(credits, on='title')"
   ]
  },
  {
   "cell_type": "markdown",
   "id": "253b075c",
   "metadata": {},
   "source": [
    "### Keeping only necessary data columns"
   ]
  },
  {
   "cell_type": "code",
   "execution_count": 4,
   "id": "08013507",
   "metadata": {},
   "outputs": [],
   "source": [
    "movies = movies[['movie_id','title','overview','genres','keywords','cast','crew','vote_average']]"
   ]
  },
  {
   "cell_type": "markdown",
   "id": "77d03628",
   "metadata": {},
   "source": [
    "### Changing 'vote_average' to 'ratings'"
   ]
  },
  {
   "cell_type": "code",
   "execution_count": 5,
   "id": "2b4beb06",
   "metadata": {},
   "outputs": [],
   "source": [
    "movies = movies.rename(columns={'vote_average':'ratings'})"
   ]
  },
  {
   "cell_type": "markdown",
   "id": "7004ef90",
   "metadata": {},
   "source": [
    "### Removing vacant columns and checking duplicate data"
   ]
  },
  {
   "cell_type": "code",
   "execution_count": 6,
   "id": "bf2feea3",
   "metadata": {},
   "outputs": [
    {
     "data": {
      "text/plain": [
       "0"
      ]
     },
     "execution_count": 6,
     "metadata": {},
     "output_type": "execute_result"
    }
   ],
   "source": [
    "movies.dropna(inplace=True)\n",
    "movies.duplicated().sum()"
   ]
  },
  {
   "cell_type": "markdown",
   "id": "f0e55aa2",
   "metadata": {},
   "source": [
    "## Creating a functions to extract specific data from df"
   ]
  },
  {
   "cell_type": "code",
   "execution_count": 7,
   "id": "187ee005",
   "metadata": {},
   "outputs": [],
   "source": [
    "def convert(obj):\n",
    "    l = []\n",
    "    for i in ast.literal_eval(obj):\n",
    "        l.append(i['name']) \n",
    "    return l "
   ]
  },
  {
   "cell_type": "code",
   "execution_count": 8,
   "id": "5615a4d0",
   "metadata": {},
   "outputs": [],
   "source": [
    "movies['genres'] = movies['genres'].apply(convert)\n",
    "movies['keywords'] = movies['keywords'].apply(convert)"
   ]
  },
  {
   "cell_type": "code",
   "execution_count": 9,
   "id": "bd09b9c9",
   "metadata": {},
   "outputs": [],
   "source": [
    "def convert_cast(obj):\n",
    "    l = []\n",
    "    counter = 0\n",
    "    for i in ast.literal_eval(obj):\n",
    "        if counter !=5 :\n",
    "            l.append(i['name'])\n",
    "            counter+=1\n",
    "        else:\n",
    "            break\n",
    "    return l "
   ]
  },
  {
   "cell_type": "code",
   "execution_count": 10,
   "id": "90d3239d",
   "metadata": {},
   "outputs": [],
   "source": [
    "movies['cast'] = movies['cast'].apply(convert_cast)"
   ]
  },
  {
   "cell_type": "code",
   "execution_count": 11,
   "id": "2c663bf3",
   "metadata": {},
   "outputs": [],
   "source": [
    "def get_director(obj):\n",
    "    l = []\n",
    "    for i in ast.literal_eval(obj):\n",
    "        if i['job'] == 'Director':\n",
    "            l.append(i['name'])\n",
    "    return l "
   ]
  },
  {
   "cell_type": "code",
   "execution_count": 12,
   "id": "4490f87a",
   "metadata": {},
   "outputs": [],
   "source": [
    "movies['crew'] = movies['crew'].apply(get_director)"
   ]
  },
  {
   "cell_type": "markdown",
   "id": "6d591118",
   "metadata": {},
   "source": [
    "### Handling data to generate tags"
   ]
  },
  {
   "cell_type": "code",
   "execution_count": 13,
   "id": "3d24458e",
   "metadata": {},
   "outputs": [],
   "source": [
    "movies['new_overview'] = movies['overview'].apply(lambda x:x.split())\n",
    "movies['new_cast'] = movies['cast'].apply(lambda x:[i.replace(\" \",\"\") for i in x])\n",
    "movies['new_crew'] = movies['crew'].apply(lambda x:[i.replace(\" \",\"\") for i in x])\n",
    "movies['new_genres'] = movies['genres'].apply(lambda x:[i.replace(\" \",\"\") for i in x])\n",
    "movies['keywords'] = movies['keywords'].apply(lambda x:[i.replace(\" \",\"\") for i in x])"
   ]
  },
  {
   "cell_type": "markdown",
   "id": "1d382fd0",
   "metadata": {},
   "source": [
    "## Generate Tags"
   ]
  },
  {
   "cell_type": "code",
   "execution_count": 14,
   "id": "acbab7dc",
   "metadata": {},
   "outputs": [],
   "source": [
    "movies['tags'] = movies['new_overview'] + movies['new_cast'] + movies['new_crew'] + movies['new_genres'] + movies['keywords']"
   ]
  },
  {
   "cell_type": "markdown",
   "id": "bcb5d867",
   "metadata": {},
   "source": [
    "## Forming a new DataFrame"
   ]
  },
  {
   "cell_type": "code",
   "execution_count": 15,
   "id": "9ef23f7a",
   "metadata": {},
   "outputs": [],
   "source": [
    "new_df = movies[['movie_id','title','overview','genres','cast','crew','ratings','tags']]"
   ]
  },
  {
   "cell_type": "code",
   "execution_count": 16,
   "id": "835dd828",
   "metadata": {},
   "outputs": [
    {
     "name": "stderr",
     "output_type": "stream",
     "text": [
      "C:\\Users\\USER\\AppData\\Local\\Temp\\ipykernel_4684\\2448108189.py:1: SettingWithCopyWarning: \n",
      "A value is trying to be set on a copy of a slice from a DataFrame.\n",
      "Try using .loc[row_indexer,col_indexer] = value instead\n",
      "\n",
      "See the caveats in the documentation: https://pandas.pydata.org/pandas-docs/stable/user_guide/indexing.html#returning-a-view-versus-a-copy\n",
      "  new_df['tags'] = new_df['tags'].apply(lambda x:\" \".join(x))\n",
      "C:\\Users\\USER\\AppData\\Local\\Temp\\ipykernel_4684\\2448108189.py:2: SettingWithCopyWarning: \n",
      "A value is trying to be set on a copy of a slice from a DataFrame.\n",
      "Try using .loc[row_indexer,col_indexer] = value instead\n",
      "\n",
      "See the caveats in the documentation: https://pandas.pydata.org/pandas-docs/stable/user_guide/indexing.html#returning-a-view-versus-a-copy\n",
      "  new_df['tags'] = new_df['tags'].apply(lambda x:x.lower())\n"
     ]
    }
   ],
   "source": [
    "new_df['tags'] = new_df['tags'].apply(lambda x:\" \".join(x))\n",
    "new_df['tags'] = new_df['tags'].apply(lambda x:x.lower())"
   ]
  },
  {
   "cell_type": "markdown",
   "id": "a337db13",
   "metadata": {},
   "source": [
    "### Performing stemming before vectorisation to generate discrete vectors"
   ]
  },
  {
   "cell_type": "code",
   "execution_count": 17,
   "id": "e7bd9d53",
   "metadata": {},
   "outputs": [],
   "source": [
    "ps = PorterStemmer()\n",
    "\n",
    "def stem(text):\n",
    "    y = []\n",
    "    for i in text.split():\n",
    "        y.append(ps.stem(i))\n",
    "        \n",
    "    return \" \".join(y)"
   ]
  },
  {
   "cell_type": "code",
   "execution_count": 18,
   "id": "b9afd5b3",
   "metadata": {},
   "outputs": [
    {
     "name": "stderr",
     "output_type": "stream",
     "text": [
      "C:\\Users\\USER\\AppData\\Local\\Temp\\ipykernel_4684\\3213734980.py:1: SettingWithCopyWarning: \n",
      "A value is trying to be set on a copy of a slice from a DataFrame.\n",
      "Try using .loc[row_indexer,col_indexer] = value instead\n",
      "\n",
      "See the caveats in the documentation: https://pandas.pydata.org/pandas-docs/stable/user_guide/indexing.html#returning-a-view-versus-a-copy\n",
      "  new_df['tags'] = new_df['tags'].apply(stem)\n"
     ]
    }
   ],
   "source": [
    "new_df['tags'] = new_df['tags'].apply(stem)"
   ]
  },
  {
   "cell_type": "markdown",
   "id": "000b4523",
   "metadata": {},
   "source": [
    "## Performing vectorisation on tags"
   ]
  },
  {
   "cell_type": "code",
   "execution_count": 19,
   "id": "6e30aab5",
   "metadata": {},
   "outputs": [],
   "source": [
    "cnt_vec = CountVectorizer(max_features=5000,stop_words='english')"
   ]
  },
  {
   "cell_type": "markdown",
   "id": "d247a69f",
   "metadata": {},
   "source": [
    "### Converting the generated vectors into a numPy array"
   ]
  },
  {
   "cell_type": "code",
   "execution_count": 20,
   "id": "d4323559",
   "metadata": {},
   "outputs": [],
   "source": [
    "vectors = cnt_vec.fit_transform(new_df['tags']).toarray()"
   ]
  },
  {
   "cell_type": "markdown",
   "id": "0f16f19c",
   "metadata": {},
   "source": [
    "## Calculating similarity scores using cosine similarity"
   ]
  },
  {
   "cell_type": "code",
   "execution_count": 21,
   "id": "e247adce",
   "metadata": {},
   "outputs": [],
   "source": [
    "similarity_score = cosine_similarity(vectors)"
   ]
  },
  {
   "cell_type": "markdown",
   "id": "fabd0949",
   "metadata": {},
   "source": [
    "## Recommendations based on similarity scores"
   ]
  },
  {
   "cell_type": "code",
   "execution_count": 22,
   "id": "0c8c7f0f",
   "metadata": {},
   "outputs": [],
   "source": [
    "def recommend(movie):\n",
    "    movie_index = new_df[new_df['title'] == movie].index[0]\n",
    "    movies_list = sorted(list(enumerate(similarity_score[movie_index])),reverse=True,key = lambda x: x[1])[1:11]\n",
    "    for i in movies_list:\n",
    "        print(new_df.iloc[i[0]].title)"
   ]
  },
  {
   "cell_type": "code",
   "execution_count": 23,
   "id": "0f9c8735",
   "metadata": {},
   "outputs": [
    {
     "name": "stdout",
     "output_type": "stream",
     "text": [
      "Aliens vs Predator: Requiem\n",
      "Independence Day\n",
      "Falcon Rising\n",
      "Battle: Los Angeles\n",
      "Titan A.E.\n",
      "Aliens\n",
      "Small Soldiers\n",
      "Meet Dave\n",
      "Jupiter Ascending\n",
      "Lifeforce\n"
     ]
    }
   ],
   "source": [
    "recommend('Avatar')"
   ]
  },
  {
   "cell_type": "code",
   "execution_count": 24,
   "id": "12285b5b",
   "metadata": {},
   "outputs": [],
   "source": [
    "pickle.dump(new_df.to_dict(),open('movies_dict.pkl','wb'))\n",
    "pickle.dump(similarity_score,open('similarity.pkl','wb'))"
   ]
  }
 ],
 "metadata": {
  "kernelspec": {
   "display_name": "Python 3 (ipykernel)",
   "language": "python",
   "name": "python3"
  },
  "language_info": {
   "codemirror_mode": {
    "name": "ipython",
    "version": 3
   },
   "file_extension": ".py",
   "mimetype": "text/x-python",
   "name": "python",
   "nbconvert_exporter": "python",
   "pygments_lexer": "ipython3",
   "version": "3.9.12"
  }
 },
 "nbformat": 4,
 "nbformat_minor": 5
}
